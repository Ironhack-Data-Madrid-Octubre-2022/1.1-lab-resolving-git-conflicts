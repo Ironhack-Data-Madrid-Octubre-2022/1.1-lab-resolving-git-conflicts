{
 "cells": [
  {
   "cell_type": "raw",
   "id": "23d63410",
   "metadata": {},
   "source": [
    "git clone https://github.com/mariamino/1.1-lab-resolving-git-conflicts.git"
   ]
  },
  {
   "cell_type": "raw",
   "id": "aa77e482",
   "metadata": {},
   "source": [
    "cd 1.1-lab-resolving-git-conflicts"
   ]
  },
  {
   "cell_type": "raw",
   "id": "c2d5340a",
   "metadata": {},
   "source": [
    "git status"
   ]
  },
  {
   "cell_type": "raw",
   "id": "8ef37dea",
   "metadata": {},
   "source": [
    "cd 1.1-lab-resolving-git-conflicts   "
   ]
  },
  {
   "cell_type": "raw",
   "id": "62ab1313",
   "metadata": {},
   "source": [
    "cd your-code"
   ]
  },
  {
   "cell_type": "raw",
   "id": "ebf43b49",
   "metadata": {},
   "source": [
    "echo 'Maria=100' >> about-me.md"
   ]
  },
  {
   "cell_type": "raw",
   "id": "229ee82b",
   "metadata": {},
   "source": [
    "git add ."
   ]
  },
  {
   "cell_type": "raw",
   "id": "abc60b64",
   "metadata": {},
   "source": [
    "git commit -m 'Cambio rama principal'"
   ]
  },
  {
   "cell_type": "raw",
   "id": "d3a4d64f",
   "metadata": {},
   "source": [
    "git push"
   ]
  },
  {
   "cell_type": "raw",
   "id": "e7821ab3",
   "metadata": {},
   "source": [
    "git log"
   ]
  },
  {
   "cell_type": "raw",
   "id": "831346bc",
   "metadata": {},
   "source": [
    "git reset --hard 1d27f43a492a5afbf8d6521b9c10095819c0074d"
   ]
  },
  {
   "cell_type": "raw",
   "id": "26131b86",
   "metadata": {},
   "source": [
    "git branch 'lab-resolving-git-conflicts'"
   ]
  },
  {
   "cell_type": "raw",
   "id": "47e79f87",
   "metadata": {},
   "source": [
    "git checkout lab-resolving-git-conflicts"
   ]
  },
  {
   "cell_type": "raw",
   "id": "be8f1300",
   "metadata": {},
   "source": [
    "echo 'Maria=8' >> about-me.md"
   ]
  },
  {
   "cell_type": "raw",
   "id": "e2e80497",
   "metadata": {},
   "source": [
    "git add ."
   ]
  },
  {
   "cell_type": "raw",
   "id": "00733ec5",
   "metadata": {},
   "source": [
    "git commit -m 'Cambio rama secundaria'"
   ]
  },
  {
   "cell_type": "raw",
   "id": "02f9e519",
   "metadata": {},
   "source": [
    "git push origin lab-resolving-git-conflicts"
   ]
  },
  {
   "cell_type": "raw",
   "id": "118f077d",
   "metadata": {},
   "source": [
    "git checkout main"
   ]
  },
  {
   "cell_type": "raw",
   "id": "2e76a557",
   "metadata": {},
   "source": [
    "git merge lab-resolving-git-conflicts"
   ]
  },
  {
   "cell_type": "raw",
   "id": "1538c3f0",
   "metadata": {},
   "source": [
    "git add ."
   ]
  },
  {
   "cell_type": "raw",
   "id": "3e697b62",
   "metadata": {},
   "source": [
    "git commit -m 'mergear ramas'"
   ]
  },
  {
   "cell_type": "raw",
   "id": "1e082e5f",
   "metadata": {},
   "source": [
    "git push"
   ]
  }
 ],
 "metadata": {
  "kernelspec": {
   "display_name": "clase",
   "language": "python",
   "name": "clase"
  },
  "language_info": {
   "codemirror_mode": {
    "name": "ipython",
    "version": 3
   },
   "file_extension": ".py",
   "mimetype": "text/x-python",
   "name": "python",
   "nbconvert_exporter": "python",
   "pygments_lexer": "ipython3",
   "version": "3.7.13"
  }
 },
 "nbformat": 4,
 "nbformat_minor": 5
}
